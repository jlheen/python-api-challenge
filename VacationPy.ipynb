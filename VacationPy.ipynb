{
 "cells": [
  {
   "cell_type": "markdown",
   "metadata": {},
   "source": [
    "# VacationPy\n",
    "----\n",
    "\n",
    "#### Note\n",
    "* Instructions have been included for each segment. You do not have to follow them exactly, but they are included to help you think through the steps."
   ]
  },
  {
   "cell_type": "code",
   "execution_count": 31,
   "metadata": {},
   "outputs": [],
   "source": [
    "# Dependencies and Setup\n",
    "import matplotlib.pyplot as plt\n",
    "import pandas as pd\n",
    "import numpy as np\n",
    "import requests\n",
    "import gmaps\n",
    "import os\n",
    "\n",
    "# Import API key\n",
    "from config import g_key\n"
   ]
  },
  {
   "cell_type": "markdown",
   "metadata": {},
   "source": [
    "### Store Part I results into DataFrame\n",
    "* Load the csv exported in Part I to a DataFrame"
   ]
  },
  {
   "cell_type": "code",
   "execution_count": 59,
   "metadata": {
    "scrolled": true
   },
   "outputs": [
    {
     "data": {
      "text/html": [
       "<div>\n",
       "<style scoped>\n",
       "    .dataframe tbody tr th:only-of-type {\n",
       "        vertical-align: middle;\n",
       "    }\n",
       "\n",
       "    .dataframe tbody tr th {\n",
       "        vertical-align: top;\n",
       "    }\n",
       "\n",
       "    .dataframe thead th {\n",
       "        text-align: right;\n",
       "    }\n",
       "</style>\n",
       "<table border=\"1\" class=\"dataframe\">\n",
       "  <thead>\n",
       "    <tr style=\"text-align: right;\">\n",
       "      <th></th>\n",
       "      <th>temperature</th>\n",
       "      <th>humidity</th>\n",
       "      <th>cloudiness</th>\n",
       "      <th>wind_speed</th>\n",
       "      <th>latitude</th>\n",
       "      <th>longitude</th>\n",
       "    </tr>\n",
       "  </thead>\n",
       "  <tbody>\n",
       "    <tr>\n",
       "      <td>0</td>\n",
       "      <td>5.00</td>\n",
       "      <td>77</td>\n",
       "      <td>100</td>\n",
       "      <td>7.0</td>\n",
       "      <td>53.02</td>\n",
       "      <td>39.17</td>\n",
       "    </tr>\n",
       "    <tr>\n",
       "      <td>1</td>\n",
       "      <td>9.15</td>\n",
       "      <td>81</td>\n",
       "      <td>90</td>\n",
       "      <td>5.1</td>\n",
       "      <td>39.36</td>\n",
       "      <td>-74.42</td>\n",
       "    </tr>\n",
       "    <tr>\n",
       "      <td>2</td>\n",
       "      <td>-24.15</td>\n",
       "      <td>69</td>\n",
       "      <td>40</td>\n",
       "      <td>1.0</td>\n",
       "      <td>63.75</td>\n",
       "      <td>-68.51</td>\n",
       "    </tr>\n",
       "    <tr>\n",
       "      <td>3</td>\n",
       "      <td>10.80</td>\n",
       "      <td>87</td>\n",
       "      <td>99</td>\n",
       "      <td>3.6</td>\n",
       "      <td>-53.15</td>\n",
       "      <td>-70.92</td>\n",
       "    </tr>\n",
       "    <tr>\n",
       "      <td>4</td>\n",
       "      <td>20.00</td>\n",
       "      <td>64</td>\n",
       "      <td>14</td>\n",
       "      <td>5.7</td>\n",
       "      <td>-32.25</td>\n",
       "      <td>148.62</td>\n",
       "    </tr>\n",
       "  </tbody>\n",
       "</table>\n",
       "</div>"
      ],
      "text/plain": [
       "   temperature  humidity  cloudiness  wind_speed  latitude  longitude\n",
       "0         5.00        77         100         7.0     53.02      39.17\n",
       "1         9.15        81          90         5.1     39.36     -74.42\n",
       "2       -24.15        69          40         1.0     63.75     -68.51\n",
       "3        10.80        87          99         3.6    -53.15     -70.92\n",
       "4        20.00        64          14         5.7    -32.25     148.62"
      ]
     },
     "execution_count": 59,
     "metadata": {},
     "output_type": "execute_result"
    }
   ],
   "source": [
    "cities_file = pd.read_csv('cities_df.csv')\n",
    "cities_file.head()"
   ]
  },
  {
   "cell_type": "code",
   "execution_count": null,
   "metadata": {},
   "outputs": [],
   "source": [
    "# convert lat to list, convert lon to list or both to dictionary?"
   ]
  },
  {
   "cell_type": "markdown",
   "metadata": {},
   "source": [
    "### Humidity Heatmap\n",
    "* Configure gmaps.\n",
    "* Use the Lat and Lng as locations and Humidity as the weight.\n",
    "* Add Heatmap layer to map."
   ]
  },
  {
   "cell_type": "code",
   "execution_count": 35,
   "metadata": {},
   "outputs": [],
   "source": [
    "import gmaps\n",
    "\n",
    "# Google developer API key\n",
    "from config import g_key\n",
    "\n",
    "# Access maps with unique API key\n",
    "gmaps.configure(api_key=g_key)"
   ]
  },
  {
   "cell_type": "code",
   "execution_count": 37,
   "metadata": {
    "collapsed": true
   },
   "outputs": [
    {
     "name": "stdout",
     "output_type": "stream",
     "text": [
      "[[53.02, 39.17], [39.36, -74.42], [63.75, -68.51], [-53.15, -70.92], [-32.25, 148.62], [-37.62, -73.65], [-8.93, 125.41], [43.06, 44.74], [-33.65, 115.33], [58.96, 126.29], [-21.2, -175.2], [65.97, 78.37], [8.0, 124.29], [-46.6, 168.33], [42.1, -79.24], [-17.73, -49.1], [39.65, 66.96], [-21.36, 55.77], [22.08, -159.32], [-54.8, -68.3], [42.6, -73.97], [72.79, -56.15], [56.8, 59.93], [18.69, 12.92], [38.73, -27.07], [18.22, -63.06], [-34.2, 142.15], [17.67, -100.0], [-5.23, -75.68], [-23.12, -134.97], [69.45, -133.04], [-33.93, 18.42], [70.47, -68.59], [61.58, -149.44], [37.48, 47.05], [-34.0, 24.73], [12.48, 123.38], [42.16, -72.33], [3.07, 172.79], [17.02, 54.09], [-46.19, 168.86], [-42.88, 147.33], [6.62, 73.07], [57.02, 82.07], [-21.21, -159.78], [68.05, 39.51], [65.82, 87.98], [22.89, -109.91], [60.92, -46.05], [45.52, -122.68], [-12.23, 136.77], [-20.34, 57.76], [41.37, -73.41], [70.63, 147.92], [3.52, 39.06], [4.14, 96.13], [-35.93, 173.88], [57.79, -152.41], [-38.0, -57.56], [26.33, 43.98], [49.02, 1.15], [-26.65, 15.16], [25.75, 86.03], [65.42, -52.9], [60.14, -45.24], [45.41, 141.67], [-5.32, -41.55], [71.29, -156.79], [5.52, 5.75], [55.36, 78.36], [71.97, 102.5], [-27.8, -64.26], [59.38, 143.3], [37.2, -94.35], [9.32, 41.45], [-10.18, -40.97], [25.29, 51.53], [29.05, -109.23], [69.3, 139.9], [-28.24, -48.67], [37.22, -93.3], [61.99, -49.67], [30.28, 57.08], [-33.59, 26.89], [-22.97, -42.03], [-29.95, -51.09], [-41.87, -73.82], [6.12, 81.12], [-17.73, -149.15], [21.46, -71.14], [20.89, -156.47], [77.48, -69.36], [51.18, 49.68], [14.46, -4.92], [-24.87, 113.63], [71.69, 128.87], [55.74, -97.86], [33.6, 56.92], [20.93, -17.03], [-38.27, 141.97], [65.85, 44.24], [-0.74, -90.35], [37.72, -25.43], [19.73, -155.09], [18.65, 79.67], [-1.2, -46.02], [-9.8, -139.03], [-24.79, -50.01], [-33.7, -53.46], [-29.95, -71.34], [-16.48, -151.75], [38.3, -5.27], [8.89, -64.25], [-20.52, 57.52], [12.58, -81.7], [50.68, 156.12], [63.05, 179.32], [69.7, 170.31], [54.79, 18.4], [60.87, 60.42], [60.47, 166.1], [64.84, -147.72], [24.09, 32.91], [59.06, 80.86], [27.63, 85.52], [2.82, -60.67], [33.67, -95.58], [34.93, 43.49], [51.38, 1.39], [14.9, -24.5], [34.64, -120.46], [37.1, -113.58], [9.35, 42.8], [-42.78, 147.06], [-15.2, 12.15], [31.56, 48.18], [37.73, -25.67], [48.6, 133.82], [-8.19, 114.97], [-10.07, -78.15], [25.75, 71.38], [-33.92, 25.57], [43.21, -75.46], [71.04, 27.85], [22.29, 114.16], [20.2, 1.01], [-22.28, 166.46], [66.42, 112.4], [44.82, 33.6], [54.67, 51.5], [46.62, 10.7], [-45.58, -72.07], [40.6, -124.16], [-34.53, 20.04], [47.67, -52.73], [73.51, 80.55], [64.38, -173.3], [65.61, -37.64], [39.96, -83.0], [38.42, -121.42], [51.9, 113.16], [-0.6, 73.08], [35.73, 140.83], [36.75, 3.04], [26.59, 111.85], [5.67, 73.0], [-23.7, 133.88], [64.5, -165.41], [-6.53, -64.38], [24.92, 86.22], [44.67, 3.5], [68.31, -53.46], [-23.07, -44.96], [57.48, -4.22], [17.96, -102.2], [55.34, 36.17], [11.47, 49.87], [-34.42, 19.23], [28.38, -107.22], [-38.55, -58.74], [-16.84, 36.99], [43.01, 11.17], [56.89, 74.37], [-22.88, -43.1], [-6.88, 112.21], [13.22, -59.52], [60.72, -46.03], [-9.01, -35.22], [-28.77, 114.6], [-0.95, 100.35], [15.74, -96.47], [23.63, 94.42], [5.41, 100.34], [39.05, -27.98], [33.64, 42.83], [-45.87, -67.5], [-17.71, -39.25], [-43.3, -65.1], [5.95, -56.98], [0.38, 32.92], [62.46, -114.35], [-33.48, 150.15], [7.99, 117.06], [-5.36, 104.97], [41.59, -109.2], [32.35, -85.2], [53.47, 85.91], [42.8, 93.45], [31.45, 12.98], [5.38, -52.95], [63.08, 27.67], [49.63, 72.85], [-34.43, -58.58], [-26.78, -51.02], [71.92, 114.08], [-22.67, 167.48], [62.22, 135.8], [58.45, 92.17], [39.03, 43.36], [-5.81, -61.3], [-32.72, 152.15], [-16.03, 35.5], [-5.56, -80.82], [51.47, -109.17], [-0.89, 119.87], [-20.23, 164.02], [39.0, 41.75], [15.0, -83.23], [57.05, -135.33], [65.7, 82.47], [-5.2, -35.46], [-14.9, 50.28], [9.61, 6.56], [-33.87, 121.9], [-20.73, 139.5], [32.67, -17.1], [54.78, -127.17], [53.23, 78.98], [48.65, -53.11], [42.12, 118.78], [56.65, 66.3], [65.28, -126.83], [35.23, -106.66], [57.22, 21.67], [-22.0, 148.05], [33.77, 130.47], [-10.45, 161.92], [-9.44, 147.18], [11.67, 92.75], [59.7, 30.79], [7.77, -72.22], [46.4, 48.54], [0.13, 117.5], [22.67, 106.25], [-30.18, -50.21], [36.62, 101.77], [56.66, 16.36], [69.22, -51.1], [43.32, 145.57], [-17.64, -71.34], [59.38, 13.5], [14.23, -90.18], [-33.02, 27.91], [1.65, 14.58], [64.86, -147.8], [-33.01, 17.94], [43.51, 123.51], [16.41, -3.67], [46.43, 26.4], [34.23, -77.94], [-7.26, -34.91], [78.22, 15.64], [25.26, 55.3], [34.14, -116.05], [-30.52, 151.65], [-8.42, 20.74], [51.26, -80.61], [-2.47, 28.82], [-23.77, -53.33], [-12.12, -73.0], [41.76, 86.15], [-0.31, 32.23], [0.81, 24.43], [-15.46, -55.75], [66.77, 123.37], [70.37, 31.11], [37.08, 41.07], [-43.53, 172.63], [56.34, 29.37], [11.03, 20.28], [40.86, -74.16], [51.28, 81.11], [66.15, -65.71], [43.65, 111.98], [61.95, 159.23], [-19.06, -169.92], [42.73, 133.08], [-20.33, -40.29], [-3.8, 102.27], [2.89, -72.13], [62.92, 34.58], [59.7, 150.17], [18.8, 110.4], [-32.03, -52.1], [1.75, 40.06], [24.69, 46.72], [41.0, -115.5], [-15.77, 128.73], [59.63, 39.74], [1.0, -52.0], [56.97, 23.77], [63.84, -22.43], [-20.32, 118.57], [68.22, -135.01], [-2.88, 108.27], [70.03, 20.97], [68.75, 161.3], [49.14, 56.49], [60.72, -135.05], [7.42, 81.82], [38.52, -28.7], [30.6, 32.27], [20.15, 94.92], [64.25, -15.21], [13.07, -59.53], [28.66, -17.92], [5.66, -67.62], [57.8, 158.67], [-35.33, -72.42], [-19.55, 169.27], [-21.62, 166.22], [-22.92, -42.82], [22.68, -3.98], [27.98, -114.06], [-0.22, 20.87], [10.44, 45.01], [47.34, 123.97], [47.91, 106.88], [31.85, -112.83], [29.73, 115.98], [68.53, 146.42], [39.07, 141.72], [25.36, 55.4], [17.42, 121.44], [-8.75, 148.25], [51.83, 143.17], [37.78, -121.98], [50.3, 87.73], [-22.36, -47.38], [-6.84, -79.93], [66.83, 70.83], [12.06, -61.75], [19.22, -104.7], [-7.91, 39.67], [56.98, 43.17], [14.95, 77.27], [53.88, 67.42], [69.49, 88.4], [30.58, -87.29], [65.99, 57.53], [-10.62, 150.67], [6.75, -11.37], [39.18, -84.53], [42.43, 130.64], [47.1, -56.38], [18.44, 1.41], [63.01, 112.47], [-10.17, 123.58], [42.47, 140.87], [41.47, 34.77], [49.58, 0.33], [1.5, 21.05], [-7.31, -39.3], [6.88, 116.85], [47.12, 51.88], [57.34, 28.35], [-34.58, 150.86], [40.85, -74.83], [-28.78, 32.04], [-20.41, 57.7], [-46.28, 169.85], [58.77, 47.96], [-23.86, 35.38], [69.2, 33.45], [69.38, 178.42], [-19.98, 57.61], [40.59, -122.39], [-26.79, -60.44], [-2.57, 150.8], [4.93, -52.33], [-6.09, -35.21], [-21.48, -56.14], [35.6, 103.21], [-44.7, 169.15], [42.45, -87.83], [60.42, 134.53], [40.28, 97.2], [4.87, -2.24], [52.02, 18.5], [-45.42, 167.72], [58.21, -6.39], [14.4, 46.47], [10.79, -0.85], [13.31, 123.34], [-6.22, 155.63], [59.58, 151.28], [12.48, -16.55], [29.38, 104.03], [8.88, 11.37], [20.0, -3.0], [48.01, 91.64], [40.13, 124.39], [-3.43, 10.66], [29.97, 77.55], [-37.83, 140.77], [-7.94, 110.25], [58.81, -122.7], [50.03, -66.87], [51.61, 109.59], [5.5, -54.05], [42.25, -75.83], [-7.71, -38.15], [50.24, 127.49], [45.32, 55.2], [51.59, -3.0], [-20.74, 116.85], [48.38, -4.62], [-10.38, 38.77], [32.12, 20.07], [56.35, 41.0], [-0.88, 131.25], [33.73, 135.98], [42.6, -84.38], [55.2, 56.67], [-14.27, 50.17], [29.68, 75.89], [43.75, -81.72], [51.1, 114.53], [-35.17, 173.17], [50.2, -66.38], [43.16, 40.34], [-19.9, 48.8], [46.42, 3.91], [47.94, 132.62], [-22.43, -151.33], [61.81, 36.53], [51.08, 28.4], [58.08, 7.82], [4.75, -6.64], [41.96, 42.96], [43.48, -8.24], [27.58, 81.6], [-14.8, 36.54], [58.74, 27.81], [-28.65, 153.62], [63.45, 120.32], [11.14, 123.72], [20.52, -13.05], [-16.23, 39.91], [54.63, -8.45], [43.05, 17.65], [29.27, 82.18], [62.14, 117.63], [45.76, 106.27], [-31.95, 141.43], [35.13, 140.3], [14.69, -17.44], [-0.36, 42.55], [-36.82, 174.45], [49.78, -74.85], [-14.41, -56.45], [45.63, 85.18], [18.09, -15.98], [21.35, -158.09], [-8.27, -72.74], [12.39, -5.46], [-41.17, 146.35], [-1.68, -50.48], [37.46, -122.43], [50.15, 48.57], [-25.24, 130.99], [-6.12, 141.29], [-39.81, -73.25], [21.82, 105.22], [50.28, 57.21], [41.19, 61.4], [3.3, 117.63], [-23.1, 26.81], [25.12, 62.33], [41.12, 80.26], [4.05, 38.3], [65.58, -171.0], [46.38, -75.97], [26.73, 33.94], [17.33, 42.67], [0.8, 127.4], [5.4, 125.46], [-28.29, -49.93], [41.14, -73.36], [-9.24, -35.49], [19.93, -105.25], [67.45, 153.68], [-12.82, -42.73], [22.24, 68.97], [-19.38, 47.42], [54.77, -101.86], [35.85, 71.79], [64.89, -23.71], [-20.22, -70.14], [17.49, 44.13], [39.82, 109.98], [62.23, -6.59], [32.3, -9.24], [63.9, 122.76], [-24.79, -65.41], [36.75, -95.98], [46.19, -123.83], [63.44, -20.27], [-24.32, -47.0], [4.42, -7.35], [9.53, 31.66], [4.38, -7.72], [3.33, 20.88], [35.53, -108.74], [67.8, 130.41], [52.32, 36.3], [68.8, 16.53], [11.0, 122.67], [60.1, 19.93], [-16.37, -58.4], [32.32, 121.19], [38.69, 35.55], [-11.55, 20.78], [26.92, 94.73], [55.1, -105.28], [62.58, 6.13], [70.86, 29.09], [41.87, -103.67], [29.04, 114.56], [34.04, -5.0], [-6.34, 106.1], [49.28, 120.73]]\n"
     ]
    }
   ],
   "source": [
    "# # Create a list containing coordinates\n",
    "# df = pd.DataFrame(cities_file, columns= ['latitude', 'longitude'])\n",
    "# coordinates_list = df.values.tolist()\n",
    "# print(coordinates_list)"
   ]
  },
  {
   "cell_type": "code",
   "execution_count": null,
   "metadata": {},
   "outputs": [],
   "source": []
  },
  {
   "cell_type": "code",
   "execution_count": 40,
   "metadata": {
    "scrolled": true
   },
   "outputs": [],
   "source": [
    "# # Customize the size of the figure\n",
    "# figure_layout = {\n",
    "#     'width': '400px',\n",
    "#     'height': '300px',\n",
    "#     'border': '1px solid black',\n",
    "#     'padding': '1px',\n",
    "#     'margin': '0 auto 0 auto'\n",
    "# }\n",
    "# fig = gmaps.figure(layout=figure_layout)\n",
    "# fig"
   ]
  },
  {
   "cell_type": "code",
   "execution_count": 43,
   "metadata": {},
   "outputs": [],
   "source": [
    "# Store 'Lat' and 'Lng' into  locations \n",
    "locations = cities_file[[\"latitude\", \"longitude\"]]\n",
    "\n",
    "cities_file = cities_file.dropna()\n",
    "humidity_metrics = cities_file[\"humidity\"]"
   ]
  },
  {
   "cell_type": "code",
   "execution_count": 44,
   "metadata": {},
   "outputs": [
    {
     "data": {
      "application/vnd.jupyter.widget-view+json": {
       "model_id": "effa5dd171b2436fa07e35c671e5a8d1",
       "version_major": 2,
       "version_minor": 0
      },
      "text/plain": [
       "Figure(layout=FigureLayout(height='420px'))"
      ]
     },
     "metadata": {},
     "output_type": "display_data"
    }
   ],
   "source": [
    "# Create a Heatmap layer\n",
    "fig = gmaps.figure()\n",
    "\n",
    "heat_layer = gmaps.heatmap_layer(locations, weights=humidity_metrics, \n",
    "                                 dissipating=False, max_intensity=100,\n",
    "                                 point_radius = 1)\n",
    "\n",
    "fig.add_layer(heat_layer)\n",
    "\n",
    "fig"
   ]
  },
  {
   "cell_type": "code",
   "execution_count": null,
   "metadata": {},
   "outputs": [],
   "source": []
  },
  {
   "cell_type": "markdown",
   "metadata": {},
   "source": [
    "### Create new DataFrame fitting weather criteria\n",
    "* Narrow down the cities to fit weather conditions.\n",
    "* Drop any rows will null values."
   ]
  },
  {
   "cell_type": "code",
   "execution_count": 63,
   "metadata": {},
   "outputs": [
    {
     "data": {
      "text/html": [
       "<div>\n",
       "<style scoped>\n",
       "    .dataframe tbody tr th:only-of-type {\n",
       "        vertical-align: middle;\n",
       "    }\n",
       "\n",
       "    .dataframe tbody tr th {\n",
       "        vertical-align: top;\n",
       "    }\n",
       "\n",
       "    .dataframe thead th {\n",
       "        text-align: right;\n",
       "    }\n",
       "</style>\n",
       "<table border=\"1\" class=\"dataframe\">\n",
       "  <thead>\n",
       "    <tr style=\"text-align: right;\">\n",
       "      <th></th>\n",
       "      <th>temperature</th>\n",
       "      <th>humidity</th>\n",
       "      <th>cloudiness</th>\n",
       "      <th>wind_speed</th>\n",
       "      <th>latitude</th>\n",
       "      <th>longitude</th>\n",
       "    </tr>\n",
       "  </thead>\n",
       "  <tbody>\n",
       "  </tbody>\n",
       "</table>\n",
       "</div>"
      ],
      "text/plain": [
       "Empty DataFrame\n",
       "Columns: [temperature, humidity, cloudiness, wind_speed, latitude, longitude]\n",
       "Index: []"
      ]
     },
     "execution_count": 63,
     "metadata": {},
     "output_type": "execute_result"
    }
   ],
   "source": [
    "# drug_reg_Ca = complete_df.loc[(complete_df[\"Drug Regimen\"] == \"Capomulin\")]\n",
    "ideal_cities = cities_file.loc[(cities_file[\"temperature\"] > 70)&\n",
    "                               (cities_file[\"temperature\"] <= 80)&\n",
    "                              (cities_file[\"wind_speed\"] < 10) &\n",
    "                              (cities_file[\"cloudiness\"]==0)]\n",
    "\n",
    "ideal_cities = ideal_cities.dropna()\n",
    "ideal_cities = ideal_cities.sort_index()\n",
    "ideal_cities.head()"
   ]
  },
  {
   "cell_type": "markdown",
   "metadata": {},
   "source": [
    "### Hotel Map\n",
    "* Store into variable named `hotel_df`.\n",
    "* Add a \"Hotel Name\" column to the DataFrame.\n",
    "* Set parameters to search for hotels with 5000 meters.\n",
    "* Hit the Google Places API for each city's coordinates.\n",
    "* Store the first Hotel result into the DataFrame.\n",
    "* Plot markers on top of the heatmap."
   ]
  },
  {
   "cell_type": "code",
   "execution_count": null,
   "metadata": {},
   "outputs": [],
   "source": []
  },
  {
   "cell_type": "code",
   "execution_count": null,
   "metadata": {},
   "outputs": [],
   "source": []
  },
  {
   "cell_type": "code",
   "execution_count": null,
   "metadata": {},
   "outputs": [],
   "source": [
    "\n"
   ]
  },
  {
   "cell_type": "code",
   "execution_count": null,
   "metadata": {},
   "outputs": [],
   "source": [
    "# NOTE: Do not change any of the code in this cell\n",
    "\n",
    "# Using the template add the hotel marks to the heatmap\n",
    "info_box_template = \"\"\"\n",
    "<dl>\n",
    "<dt>Name</dt><dd>{Hotel Name}</dd>\n",
    "<dt>City</dt><dd>{City}</dd>\n",
    "<dt>Country</dt><dd>{Country}</dd>\n",
    "</dl>\n",
    "\"\"\"\n",
    "# Store the DataFrame Row\n",
    "# NOTE: be sure to update with your DataFrame name\n",
    "hotel_info = [info_box_template.format(**row) for index, row in narrowed_city_df.iterrows()]\n",
    "locations = hotel_df[[\"Lat\", \"Lng\"]]"
   ]
  },
  {
   "cell_type": "code",
   "execution_count": null,
   "metadata": {},
   "outputs": [],
   "source": [
    "# Add marker layer ontop of heat map\n",
    "\n",
    "\n",
    "# Display Map"
   ]
  }
 ],
 "metadata": {
  "kernelspec": {
   "display_name": "Python 3.7.4 64-bit ('anaconda3': virtualenv)",
   "language": "python",
   "name": "python37464bitanaconda3virtualenvf91fde15fee24865809b849161d4b1f9"
  },
  "language_info": {
   "codemirror_mode": {
    "name": "ipython",
    "version": 3
   },
   "file_extension": ".py",
   "mimetype": "text/x-python",
   "name": "python",
   "nbconvert_exporter": "python",
   "pygments_lexer": "ipython3",
   "version": "3.7.4"
  },
  "latex_envs": {
   "LaTeX_envs_menu_present": true,
   "autoclose": false,
   "autocomplete": true,
   "bibliofile": "biblio.bib",
   "cite_by": "apalike",
   "current_citInitial": 1,
   "eqLabelWithNumbers": true,
   "eqNumInitial": 1,
   "hotkeys": {
    "equation": "Ctrl-E",
    "itemize": "Ctrl-I"
   },
   "labels_anchors": false,
   "latex_user_defs": false,
   "report_style_numbering": false,
   "user_envs_cfg": false
  }
 },
 "nbformat": 4,
 "nbformat_minor": 2
}
