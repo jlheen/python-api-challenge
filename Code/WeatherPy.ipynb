{
 "cells": [
  {
   "cell_type": "markdown",
   "metadata": {},
   "source": [
    "# WeatherPy\n",
    "----\n",
    "\n",
    "#### Analysis\n",
    "\n",
    "Here are three observations that can be made regarding the WeatherPy data set and its plots. The key question driving this exploration was if a city's temperature is hotter if it's located closer to the equator. Therefore, we will center our analysis on the answer:\n",
    "1) The plot that seems to answer the question that began our quest for knowledge (\"are countries closer to the equator hotter\") is answered by the scatterplot of latitude versus temperature. The highest temperatures of this sample set of data are located at the zero latitude index, the equator. Although the temperatures are significantly colder at higher positive latitudes, there is still a dip in the temperatures that are at negative latitudes. Although this would need further research, it is possible there are fewer global cities located beneath -60 latitude, whereas there may be a greater number of cities that could be included between +60 and +80 latitude.\n",
    "2) This is reinforced by the two plots Northern Hemisphere Latitude v. Max Temp and Southern Hemisphere v. Max Temp. The northern hemisphere moves from a meeting point of 0 latitude and max temperatures hovering at 30 and moves down to the right as latitude increases and temperature decreases. The southern hemisphere plot seems to show fewer cities, but it moves opposite of the norther hemisphere plot, with latitude increasing and temperature increasing.\n",
    "Now that we have answered that question, I will note:\n",
    "3) There seems to be few consistent trends in this data otherwise. Cloudiness stands out as a metric that does not seem to have any certain pattern across these cities."
   ]
  },
  {
   "cell_type": "code",
   "execution_count": 1,
   "metadata": {
    "scrolled": true
   },
   "outputs": [],
   "source": [
    "# Dependencies and Setup\n",
    "import matplotlib.pyplot as plt\n",
    "import pandas as pd\n",
    "import numpy as np\n",
    "import requests\n",
    "import time\n",
    "from scipy.stats import linregress\n",
    "\n",
    "# Import API key\n",
    "from config import weather_api_key\n",
    "\n",
    "# Incorporated citipy to determine city based on latitude and longitude\n",
    "from citipy import citipy\n",
    "\n",
    "# Output File (CSV)\n",
    "output_data_file = \"output_data/cities.csv\"\n",
    "\n",
    "# Range of latitudes and longitudes\n",
    "lat_range = (-90, 90)\n",
    "lng_range = (-180, 180)"
   ]
  },
  {
   "cell_type": "markdown",
   "metadata": {},
   "source": [
    "## Generate Cities List"
   ]
  },
  {
   "cell_type": "code",
   "execution_count": 2,
   "metadata": {},
   "outputs": [
    {
     "data": {
      "text/plain": [
       "596"
      ]
     },
     "execution_count": 2,
     "metadata": {},
     "output_type": "execute_result"
    }
   ],
   "source": [
    "# List for holding lat_lngs and cities\n",
    "lat_lngs = []\n",
    "cities = []\n",
    "\n",
    "# Create a set of random lat and lng combinations\n",
    "lats = np.random.uniform(low=-90.000, high=90.000, size=1500)\n",
    "lngs = np.random.uniform(low=-180.000, high=180.000, size=1500)\n",
    "lat_lngs = zip(lats, lngs)\n",
    "\n",
    "# Identify nearest city for each lat, lng combination\n",
    "for lat_lng in lat_lngs:\n",
    "    city = citipy.nearest_city(lat_lng[0], lat_lng[1]).city_name\n",
    "    \n",
    "    # If the city is unique, then add it to a our cities list\n",
    "    if city not in cities:\n",
    "        cities.append(city)\n",
    "\n",
    "# Print the city count to confirm sufficient count\n",
    "len(cities)"
   ]
  },
  {
   "cell_type": "markdown",
   "metadata": {},
   "source": [
    "### Perform API Calls\n",
    "* Perform a weather check on each city using a series of successive API calls.\n",
    "* Include a print log of each city as it'sbeing processed (with the city number and city name).\n"
   ]
  },
  {
   "cell_type": "code",
   "execution_count": 64,
   "metadata": {
    "scrolled": true
   },
   "outputs": [
    {
     "name": "stdout",
     "output_type": "stream",
     "text": [
      "-----------------------------\n",
      "Beginning Data Retrieval\n",
      "Processing Record Number 1\n",
      "No City Records Found\n",
      "Processing Record Number 2\n",
      "Processing Record Number 3\n",
      "Processing Record Number 4\n",
      "Processing Record Number 5\n",
      "Processing Record Number 6\n",
      "Processing Record Number 7\n",
      "Processing Record Number 8\n",
      "Processing Record Number 9\n",
      "Processing Record Number 10\n",
      "Processing Record Number 11\n",
      "Processing Record Number 12\n",
      "Processing Record Number 13\n",
      "Processing Record Number 14\n",
      "Processing Record Number 15\n",
      "Processing Record Number 16\n",
      "Processing Record Number 17\n",
      "No City Records Found\n",
      "Processing Record Number 18\n",
      "Processing Record Number 19\n",
      "Processing Record Number 20\n",
      "Processing Record Number 21\n",
      "Processing Record Number 22\n",
      "Processing Record Number 23\n",
      "Processing Record Number 24\n",
      "Processing Record Number 25\n",
      "Processing Record Number 26\n",
      "Processing Record Number 27\n",
      "Processing Record Number 28\n",
      "Processing Record Number 29\n",
      "No City Records Found\n",
      "Processing Record Number 30\n",
      "Processing Record Number 31\n",
      "Processing Record Number 32\n",
      "No City Records Found\n",
      "Processing Record Number 33\n",
      "Processing Record Number 34\n",
      "Processing Record Number 35\n",
      "Processing Record Number 36\n",
      "Processing Record Number 37\n",
      "Processing Record Number 38\n",
      "Processing Record Number 39\n",
      "Processing Record Number 40\n",
      "Processing Record Number 41\n",
      "Processing Record Number 42\n",
      "Processing Record Number 43\n",
      "Processing Record Number 44\n",
      "Processing Record Number 45\n",
      "Processing Record Number 46\n",
      "Processing Record Number 47\n",
      "Processing Record Number 48\n",
      "Processing Record Number 49\n",
      "Processing Record Number 50\n",
      "Processing Record Number 51\n",
      "Processing Record Number 52\n",
      "Processing Record Number 53\n",
      "Processing Record Number 54\n",
      "Processing Record Number 55\n",
      "Processing Record Number 56\n",
      "Processing Record Number 57\n",
      "Processing Record Number 58\n",
      "Processing Record Number 59\n",
      "Processing Record Number 60\n",
      "No City Records Found\n",
      "Processing Record Number 61\n",
      "Processing Record Number 62\n",
      "Processing Record Number 63\n",
      "Processing Record Number 64\n",
      "Processing Record Number 65\n",
      "Processing Record Number 66\n",
      "Processing Record Number 67\n",
      "Processing Record Number 68\n",
      "Processing Record Number 69\n",
      "Processing Record Number 70\n",
      "Processing Record Number 71\n",
      "No City Records Found\n",
      "Processing Record Number 72\n",
      "Processing Record Number 73\n",
      "Processing Record Number 74\n",
      "Processing Record Number 75\n",
      "Processing Record Number 76\n",
      "No City Records Found\n",
      "Processing Record Number 77\n",
      "No City Records Found\n",
      "Processing Record Number 78\n",
      "Processing Record Number 79\n",
      "Processing Record Number 80\n",
      "Processing Record Number 81\n",
      "Processing Record Number 82\n",
      "Processing Record Number 83\n",
      "Processing Record Number 84\n",
      "Processing Record Number 85\n",
      "Processing Record Number 86\n",
      "Processing Record Number 87\n",
      "Processing Record Number 88\n",
      "Processing Record Number 89\n",
      "Processing Record Number 90\n",
      "Processing Record Number 91\n",
      "No City Records Found\n",
      "Processing Record Number 92\n",
      "Processing Record Number 93\n",
      "Processing Record Number 94\n",
      "Processing Record Number 95\n",
      "Processing Record Number 96\n",
      "Processing Record Number 97\n",
      "Processing Record Number 98\n",
      "Processing Record Number 99\n",
      "Processing Record Number 100\n",
      "Processing Record Number 101\n",
      "Processing Record Number 102\n",
      "Processing Record Number 103\n",
      "Processing Record Number 104\n",
      "Processing Record Number 105\n",
      "Processing Record Number 106\n",
      "No City Records Found\n",
      "Processing Record Number 107\n",
      "Processing Record Number 108\n",
      "Processing Record Number 109\n",
      "Processing Record Number 110\n",
      "Processing Record Number 111\n",
      "Processing Record Number 112\n",
      "Processing Record Number 113\n",
      "Processing Record Number 114\n",
      "Processing Record Number 115\n",
      "Processing Record Number 116\n",
      "No City Records Found\n",
      "Processing Record Number 117\n",
      "Processing Record Number 118\n",
      "Processing Record Number 119\n",
      "Processing Record Number 120\n",
      "Processing Record Number 121\n",
      "Processing Record Number 122\n",
      "Processing Record Number 123\n",
      "Processing Record Number 124\n",
      "Processing Record Number 125\n",
      "Processing Record Number 126\n",
      "Processing Record Number 127\n",
      "No City Records Found\n",
      "Processing Record Number 128\n",
      "Processing Record Number 129\n",
      "Processing Record Number 130\n",
      "Processing Record Number 131\n",
      "Processing Record Number 132\n",
      "Processing Record Number 133\n",
      "Processing Record Number 134\n",
      "Processing Record Number 135\n",
      "Processing Record Number 136\n",
      "No City Records Found\n",
      "Processing Record Number 137\n",
      "No City Records Found\n",
      "Processing Record Number 138\n",
      "Processing Record Number 139\n",
      "Processing Record Number 140\n",
      "Processing Record Number 141\n",
      "Processing Record Number 142\n",
      "Processing Record Number 143\n",
      "Processing Record Number 144\n",
      "Processing Record Number 145\n",
      "Processing Record Number 146\n",
      "No City Records Found\n",
      "Processing Record Number 147\n",
      "Processing Record Number 148\n",
      "Processing Record Number 149\n",
      "Processing Record Number 150\n",
      "Processing Record Number 151\n",
      "Processing Record Number 152\n",
      "Processing Record Number 153\n",
      "Processing Record Number 154\n",
      "Processing Record Number 155\n",
      "Processing Record Number 156\n",
      "Processing Record Number 157\n",
      "Processing Record Number 158\n",
      "Processing Record Number 159\n",
      "Processing Record Number 160\n",
      "Processing Record Number 161\n",
      "Processing Record Number 162\n",
      "Processing Record Number 163\n",
      "Processing Record Number 164\n",
      "Processing Record Number 165\n",
      "Processing Record Number 166\n",
      "Processing Record Number 167\n",
      "No City Records Found\n",
      "Processing Record Number 168\n",
      "Processing Record Number 169\n",
      "Processing Record Number 170\n",
      "No City Records Found\n",
      "Processing Record Number 171\n",
      "Processing Record Number 172\n",
      "Processing Record Number 173\n",
      "Processing Record Number 174\n",
      "Processing Record Number 175\n",
      "Processing Record Number 176\n",
      "Processing Record Number 177\n",
      "Processing Record Number 178\n",
      "Processing Record Number 179\n",
      "Processing Record Number 180\n",
      "Processing Record Number 181\n",
      "Processing Record Number 182\n",
      "Processing Record Number 183\n",
      "Processing Record Number 184\n",
      "Processing Record Number 185\n",
      "Processing Record Number 186\n",
      "Processing Record Number 187\n",
      "Processing Record Number 188\n",
      "Processing Record Number 189\n",
      "No City Records Found\n",
      "Processing Record Number 190\n",
      "Processing Record Number 191\n",
      "Processing Record Number 192\n",
      "Processing Record Number 193\n",
      "Processing Record Number 194\n",
      "Processing Record Number 195\n",
      "Processing Record Number 196\n",
      "Processing Record Number 197\n",
      "No City Records Found\n",
      "Processing Record Number 198\n",
      "Processing Record Number 199\n",
      "Processing Record Number 200\n",
      "Processing Record Number 201\n",
      "Processing Record Number 202\n",
      "Processing Record Number 203\n",
      "Processing Record Number 204\n",
      "Processing Record Number 205\n",
      "Processing Record Number 206\n",
      "Processing Record Number 207\n",
      "Processing Record Number 208\n",
      "Processing Record Number 209\n",
      "Processing Record Number 210\n",
      "Processing Record Number 211\n",
      "Processing Record Number 212\n",
      "Processing Record Number 213\n",
      "No City Records Found\n",
      "Processing Record Number 214\n",
      "Processing Record Number 215\n",
      "No City Records Found\n",
      "Processing Record Number 216\n",
      "Processing Record Number 217\n",
      "Processing Record Number 218\n",
      "Processing Record Number 219\n",
      "Processing Record Number 220\n",
      "Processing Record Number 221\n",
      "No City Records Found\n",
      "Processing Record Number 222\n",
      "Processing Record Number 223\n",
      "Processing Record Number 224\n",
      "Processing Record Number 225\n",
      "Processing Record Number 226\n",
      "Processing Record Number 227\n",
      "Processing Record Number 228\n",
      "Processing Record Number 229\n",
      "Processing Record Number 230\n",
      "Processing Record Number 231\n",
      "Processing Record Number 232\n",
      "Processing Record Number 233\n",
      "Processing Record Number 234\n",
      "No City Records Found\n",
      "Processing Record Number 235\n",
      "Processing Record Number 236\n",
      "Processing Record Number 237\n",
      "Processing Record Number 238\n",
      "Processing Record Number 239\n",
      "No City Records Found\n",
      "Processing Record Number 240\n",
      "Processing Record Number 241\n",
      "Processing Record Number 242\n",
      "Processing Record Number 243\n",
      "Processing Record Number 244\n",
      "Processing Record Number 245\n",
      "Processing Record Number 246\n",
      "Processing Record Number 247\n",
      "Processing Record Number 248\n",
      "Processing Record Number 249\n",
      "No City Records Found\n",
      "Processing Record Number 250\n",
      "Processing Record Number 251\n",
      "Processing Record Number 252\n",
      "Processing Record Number 253\n",
      "Processing Record Number 254\n",
      "Processing Record Number 255\n",
      "Processing Record Number 256\n",
      "Processing Record Number 257\n",
      "Processing Record Number 258\n",
      "Processing Record Number 259\n",
      "Processing Record Number 260\n",
      "Processing Record Number 261\n",
      "Processing Record Number 262\n",
      "Processing Record Number 263\n",
      "Processing Record Number 264\n",
      "Processing Record Number 265\n",
      "Processing Record Number 266\n",
      "Processing Record Number 267\n"
     ]
    },
    {
     "name": "stdout",
     "output_type": "stream",
     "text": [
      "Processing Record Number 268\n",
      "Processing Record Number 269\n",
      "No City Records Found\n",
      "Processing Record Number 270\n",
      "Processing Record Number 271\n",
      "Processing Record Number 272\n",
      "Processing Record Number 273\n",
      "Processing Record Number 274\n",
      "Processing Record Number 275\n",
      "Processing Record Number 276\n",
      "Processing Record Number 277\n",
      "Processing Record Number 278\n",
      "Processing Record Number 279\n",
      "Processing Record Number 280\n",
      "No City Records Found\n",
      "Processing Record Number 281\n",
      "Processing Record Number 282\n",
      "Processing Record Number 283\n",
      "Processing Record Number 284\n",
      "Processing Record Number 285\n",
      "Processing Record Number 286\n",
      "Processing Record Number 287\n",
      "Processing Record Number 288\n",
      "Processing Record Number 289\n",
      "Processing Record Number 290\n",
      "Processing Record Number 291\n",
      "Processing Record Number 292\n",
      "Processing Record Number 293\n",
      "Processing Record Number 294\n",
      "Processing Record Number 295\n",
      "Processing Record Number 296\n",
      "Processing Record Number 297\n",
      "Processing Record Number 298\n",
      "Processing Record Number 299\n",
      "Processing Record Number 300\n",
      "Processing Record Number 301\n",
      "Processing Record Number 302\n",
      "No City Records Found\n",
      "Processing Record Number 303\n",
      "Processing Record Number 304\n",
      "Processing Record Number 305\n",
      "Processing Record Number 306\n",
      "Processing Record Number 307\n",
      "Processing Record Number 308\n",
      "Processing Record Number 309\n",
      "Processing Record Number 310\n",
      "Processing Record Number 311\n",
      "Processing Record Number 312\n",
      "Processing Record Number 313\n",
      "Processing Record Number 314\n",
      "Processing Record Number 315\n",
      "Processing Record Number 316\n",
      "Processing Record Number 317\n",
      "Processing Record Number 318\n",
      "Processing Record Number 319\n",
      "Processing Record Number 320\n",
      "Processing Record Number 321\n",
      "Processing Record Number 322\n",
      "No City Records Found\n",
      "Processing Record Number 323\n",
      "Processing Record Number 324\n",
      "Processing Record Number 325\n",
      "Processing Record Number 326\n",
      "Processing Record Number 327\n",
      "Processing Record Number 328\n",
      "Processing Record Number 329\n",
      "Processing Record Number 330\n",
      "Processing Record Number 331\n",
      "Processing Record Number 332\n",
      "Processing Record Number 333\n",
      "Processing Record Number 334\n",
      "Processing Record Number 335\n",
      "Processing Record Number 336\n",
      "Processing Record Number 337\n",
      "Processing Record Number 338\n",
      "Processing Record Number 339\n",
      "Processing Record Number 340\n",
      "Processing Record Number 341\n",
      "Processing Record Number 342\n",
      "No City Records Found\n",
      "Processing Record Number 343\n",
      "Processing Record Number 344\n",
      "Processing Record Number 345\n",
      "Processing Record Number 346\n",
      "Processing Record Number 347\n",
      "Processing Record Number 348\n",
      "Processing Record Number 349\n",
      "Processing Record Number 350\n",
      "Processing Record Number 351\n",
      "No City Records Found\n",
      "Processing Record Number 352\n",
      "Processing Record Number 353\n",
      "Processing Record Number 354\n",
      "Processing Record Number 355\n",
      "Processing Record Number 356\n",
      "Processing Record Number 357\n",
      "Processing Record Number 358\n",
      "Processing Record Number 359\n",
      "Processing Record Number 360\n",
      "Processing Record Number 361\n",
      "Processing Record Number 362\n",
      "Processing Record Number 363\n",
      "Processing Record Number 364\n",
      "Processing Record Number 365\n",
      "Processing Record Number 366\n",
      "Processing Record Number 367\n",
      "Processing Record Number 368\n",
      "Processing Record Number 369\n",
      "No City Records Found\n",
      "Processing Record Number 370\n",
      "Processing Record Number 371\n",
      "Processing Record Number 372\n",
      "No City Records Found\n",
      "Processing Record Number 373\n",
      "Processing Record Number 374\n",
      "No City Records Found\n",
      "Processing Record Number 375\n",
      "Processing Record Number 376\n",
      "Processing Record Number 377\n",
      "Processing Record Number 378\n",
      "Processing Record Number 379\n",
      "Processing Record Number 380\n",
      "Processing Record Number 381\n",
      "Processing Record Number 382\n",
      "Processing Record Number 383\n",
      "Processing Record Number 384\n",
      "Processing Record Number 385\n",
      "Processing Record Number 386\n",
      "Processing Record Number 387\n",
      "Processing Record Number 388\n",
      "Processing Record Number 389\n",
      "Processing Record Number 390\n",
      "Processing Record Number 391\n",
      "Processing Record Number 392\n",
      "Processing Record Number 393\n",
      "Processing Record Number 394\n",
      "Processing Record Number 395\n",
      "Processing Record Number 396\n",
      "Processing Record Number 397\n",
      "Processing Record Number 398\n",
      "Processing Record Number 399\n",
      "Processing Record Number 400\n",
      "Processing Record Number 401\n",
      "Processing Record Number 402\n",
      "Processing Record Number 403\n",
      "Processing Record Number 404\n",
      "Processing Record Number 405\n",
      "Processing Record Number 406\n",
      "Processing Record Number 407\n",
      "Processing Record Number 408\n",
      "Processing Record Number 409\n",
      "Processing Record Number 410\n",
      "Processing Record Number 411\n",
      "No City Records Found\n",
      "Processing Record Number 412\n",
      "Processing Record Number 413\n",
      "Processing Record Number 414\n",
      "Processing Record Number 415\n",
      "No City Records Found\n",
      "Processing Record Number 416\n",
      "Processing Record Number 417\n",
      "Processing Record Number 418\n",
      "Processing Record Number 419\n",
      "Processing Record Number 420\n",
      "Processing Record Number 421\n",
      "Processing Record Number 422\n",
      "No City Records Found\n",
      "Processing Record Number 423\n",
      "Processing Record Number 424\n",
      "Processing Record Number 425\n",
      "Processing Record Number 426\n",
      "Processing Record Number 427\n",
      "Processing Record Number 428\n",
      "Processing Record Number 429\n",
      "No City Records Found\n",
      "Processing Record Number 430\n",
      "Processing Record Number 431\n",
      "Processing Record Number 432\n",
      "Processing Record Number 433\n",
      "Processing Record Number 434\n",
      "Processing Record Number 435\n",
      "Processing Record Number 436\n",
      "Processing Record Number 437\n",
      "No City Records Found\n",
      "Processing Record Number 438\n",
      "Processing Record Number 439\n",
      "Processing Record Number 440\n",
      "Processing Record Number 441\n",
      "Processing Record Number 442\n",
      "Processing Record Number 443\n",
      "Processing Record Number 444\n",
      "Processing Record Number 445\n",
      "Processing Record Number 446\n",
      "Processing Record Number 447\n",
      "Processing Record Number 448\n",
      "No City Records Found\n",
      "Processing Record Number 449\n",
      "Processing Record Number 450\n",
      "Processing Record Number 451\n",
      "Processing Record Number 452\n",
      "Processing Record Number 453\n",
      "Processing Record Number 454\n",
      "Processing Record Number 455\n",
      "Processing Record Number 456\n",
      "Processing Record Number 457\n",
      "Processing Record Number 458\n",
      "Processing Record Number 459\n",
      "Processing Record Number 460\n",
      "Processing Record Number 461\n",
      "Processing Record Number 462\n",
      "Processing Record Number 463\n",
      "Processing Record Number 464\n",
      "Processing Record Number 465\n",
      "No City Records Found\n",
      "Processing Record Number 466\n",
      "Processing Record Number 467\n",
      "Processing Record Number 468\n",
      "Processing Record Number 469\n",
      "Processing Record Number 470\n",
      "Processing Record Number 471\n",
      "Processing Record Number 472\n",
      "Processing Record Number 473\n",
      "Processing Record Number 474\n",
      "Processing Record Number 475\n",
      "Processing Record Number 476\n",
      "Processing Record Number 477\n",
      "Processing Record Number 478\n",
      "Processing Record Number 479\n",
      "Processing Record Number 480\n",
      "Processing Record Number 481\n",
      "Processing Record Number 482\n",
      "No City Records Found\n",
      "Processing Record Number 483\n",
      "Processing Record Number 484\n",
      "Processing Record Number 485\n",
      "No City Records Found\n",
      "Processing Record Number 486\n",
      "Processing Record Number 487\n",
      "Processing Record Number 488\n",
      "Processing Record Number 489\n",
      "No City Records Found\n",
      "Processing Record Number 490\n",
      "Processing Record Number 491\n",
      "Processing Record Number 492\n",
      "Processing Record Number 493\n",
      "Processing Record Number 494\n",
      "Processing Record Number 495\n",
      "Processing Record Number 496\n",
      "No City Records Found\n",
      "Processing Record Number 497\n",
      "No City Records Found\n",
      "Processing Record Number 498\n",
      "Processing Record Number 499\n",
      "Processing Record Number 500\n",
      "Processing Record Number 501\n",
      "Processing Record Number 502\n",
      "No City Records Found\n",
      "Processing Record Number 503\n",
      "Processing Record Number 504\n",
      "Processing Record Number 505\n",
      "Processing Record Number 506\n",
      "Processing Record Number 507\n",
      "Processing Record Number 508\n",
      "Processing Record Number 509\n",
      "Processing Record Number 510\n",
      "Processing Record Number 511\n",
      "Processing Record Number 512\n",
      "Processing Record Number 513\n",
      "Processing Record Number 514\n",
      "Processing Record Number 515\n",
      "Processing Record Number 516\n",
      "Processing Record Number 517\n",
      "Processing Record Number 518\n",
      "Processing Record Number 519\n",
      "Processing Record Number 520\n",
      "Processing Record Number 521\n",
      "No City Records Found\n",
      "Processing Record Number 522\n",
      "Processing Record Number 523\n",
      "Processing Record Number 524\n",
      "Processing Record Number 525\n",
      "Processing Record Number 526\n",
      "Processing Record Number 527\n",
      "Processing Record Number 528\n",
      "Processing Record Number 529\n",
      "No City Records Found\n",
      "Processing Record Number 530\n",
      "Processing Record Number 531\n",
      "Processing Record Number 532\n"
     ]
    },
    {
     "name": "stdout",
     "output_type": "stream",
     "text": [
      "Processing Record Number 533\n",
      "Processing Record Number 534\n",
      "Processing Record Number 535\n",
      "Processing Record Number 536\n",
      "Processing Record Number 537\n",
      "Processing Record Number 538\n",
      "Processing Record Number 539\n",
      "Processing Record Number 540\n",
      "Processing Record Number 541\n",
      "Processing Record Number 542\n",
      "Processing Record Number 543\n",
      "Processing Record Number 544\n",
      "Processing Record Number 545\n",
      "No City Records Found\n",
      "Processing Record Number 546\n",
      "Processing Record Number 547\n",
      "No City Records Found\n",
      "Processing Record Number 548\n",
      "Processing Record Number 549\n",
      "Processing Record Number 550\n",
      "Processing Record Number 551\n",
      "Processing Record Number 552\n",
      "Processing Record Number 553\n",
      "Processing Record Number 554\n",
      "Processing Record Number 555\n",
      "Processing Record Number 556\n",
      "Processing Record Number 557\n",
      "Processing Record Number 558\n",
      "Processing Record Number 559\n",
      "Processing Record Number 560\n",
      "Processing Record Number 561\n",
      "Processing Record Number 562\n",
      "Processing Record Number 563\n",
      "Processing Record Number 564\n",
      "Processing Record Number 565\n",
      "Processing Record Number 566\n",
      "Processing Record Number 567\n",
      "Processing Record Number 568\n",
      "Processing Record Number 569\n",
      "Processing Record Number 570\n",
      "Processing Record Number 571\n",
      "No City Records Found\n",
      "Processing Record Number 572\n",
      "Processing Record Number 573\n",
      "Processing Record Number 574\n",
      "Processing Record Number 575\n",
      "Processing Record Number 576\n",
      "Processing Record Number 577\n",
      "No City Records Found\n",
      "Processing Record Number 578\n",
      "Processing Record Number 579\n",
      "Processing Record Number 580\n",
      "Processing Record Number 581\n",
      "Processing Record Number 582\n",
      "Processing Record Number 583\n",
      "Processing Record Number 584\n",
      "Processing Record Number 585\n",
      "Processing Record Number 586\n",
      "Processing Record Number 587\n",
      "Processing Record Number 588\n",
      "Processing Record Number 589\n",
      "Processing Record Number 590\n",
      "Processing Record Number 591\n",
      "Processing Record Number 592\n",
      "No City Records Found\n",
      "Processing Record Number 593\n",
      "Processing Record Number 594\n",
      "Processing Record Number 595\n",
      "Processing Record Number 596\n"
     ]
    }
   ],
   "source": [
    "# Perform an API call\n",
    "# Initiate variables and store the retrieved data into a dataframe\n",
    "\n",
    "print(\"-----------------------------\")  \n",
    "print(\"Beginning Data Retrieval\")\n",
    "url = \"http://api.openweathermap.org/data/2.5/weather?\"\n",
    "units = \"metric\"\n",
    "\n",
    "metrics = []\n",
    "city_counter = 0\n",
    "\n",
    "for city in cities:\n",
    "    \n",
    "    city_counter += 1\n",
    "    print(f\"Processing Record Number {city_counter}\")\n",
    "    \n",
    "    try: \n",
    "    \n",
    "        # Build query URL and request your results in Celsius\n",
    "        query_url = f\"{url}appid={weather_api_key}&q={city}&units={units}\"\n",
    "\n",
    "        # Get weather data\n",
    "        weather_response = requests.get(query_url)\n",
    "        weather_json = weather_response.json()\n",
    "        \n",
    "        name = weather_json[\"name\"]\n",
    "        temperature = weather_json[\"main\"][\"temp\"]\n",
    "        humidity = weather_json[\"main\"][\"humidity\"]\n",
    "        cloudiness = weather_json['clouds']['all']\n",
    "        wind_speed = weather_json['wind']['speed']\n",
    "        latitude = weather_json['coord']['lat']\n",
    "        longitude = weather_json['coord']['lon']\n",
    "        metrics.append({\"name\": name,\n",
    "                        \"temperature\": temperature,\n",
    "                       \"humidity\": humidity,\n",
    "                       \"cloudiness\": cloudiness,\n",
    "                       \"wind_speed\": wind_speed,\n",
    "                       \"latitude\": latitude,\n",
    "                       \"longitude\": longitude})\n",
    "        \n",
    "    \n",
    "    except: \n",
    "        print('No City Records Found')\n",
    "        "
   ]
  },
  {
   "cell_type": "markdown",
   "metadata": {},
   "source": [
    "### Convert Raw Data to DataFrame\n",
    "* Export the city data into a .csv.\n",
    "* Display the DataFrame"
   ]
  },
  {
   "cell_type": "code",
   "execution_count": 65,
   "metadata": {
    "collapsed": true
   },
   "outputs": [
    {
     "data": {
      "text/plain": [
       "{'coord': {'lon': 120.73, 'lat': 49.28},\n",
       " 'weather': [{'id': 802,\n",
       "   'main': 'Clouds',\n",
       "   'description': 'scattered clouds',\n",
       "   'icon': '03n'}],\n",
       " 'base': 'stations',\n",
       " 'main': {'temp': -22.63,\n",
       "  'feels_like': -28.4,\n",
       "  'temp_min': -22.63,\n",
       "  'temp_max': -22.63,\n",
       "  'pressure': 1027,\n",
       "  'humidity': 91,\n",
       "  'sea_level': 1027,\n",
       "  'grnd_level': 928},\n",
       " 'wind': {'speed': 2.96, 'deg': 344},\n",
       " 'clouds': {'all': 31},\n",
       " 'dt': 1584220213,\n",
       " 'sys': {'country': 'CN', 'sunrise': 1584223840, 'sunset': 1584266487},\n",
       " 'timezone': 28800,\n",
       " 'id': 2033536,\n",
       " 'name': 'Yakeshi',\n",
       " 'cod': 200}"
      ]
     },
     "execution_count": 65,
     "metadata": {},
     "output_type": "execute_result"
    }
   ],
   "source": [
    "# Printed out the json file in order to reference in the case of updating the dataframe\n",
    "weather_json"
   ]
  },
  {
   "cell_type": "code",
   "execution_count": 66,
   "metadata": {},
   "outputs": [],
   "source": [
    "# Store the data frame into a csv file for the Vacation activity\n",
    "cities_df = pd.DataFrame(metrics)\n",
    "cities_df.to_csv('cities_df.csv', index=False)"
   ]
  },
  {
   "cell_type": "code",
   "execution_count": 67,
   "metadata": {},
   "outputs": [
    {
     "data": {
      "text/html": [
       "<div>\n",
       "<style scoped>\n",
       "    .dataframe tbody tr th:only-of-type {\n",
       "        vertical-align: middle;\n",
       "    }\n",
       "\n",
       "    .dataframe tbody tr th {\n",
       "        vertical-align: top;\n",
       "    }\n",
       "\n",
       "    .dataframe thead th {\n",
       "        text-align: right;\n",
       "    }\n",
       "</style>\n",
       "<table border=\"1\" class=\"dataframe\">\n",
       "  <thead>\n",
       "    <tr style=\"text-align: right;\">\n",
       "      <th></th>\n",
       "      <th>name</th>\n",
       "      <th>temperature</th>\n",
       "      <th>humidity</th>\n",
       "      <th>cloudiness</th>\n",
       "      <th>wind_speed</th>\n",
       "      <th>latitude</th>\n",
       "      <th>longitude</th>\n",
       "    </tr>\n",
       "  </thead>\n",
       "  <tbody>\n",
       "    <tr>\n",
       "      <td>0</td>\n",
       "      <td>Lebedyan'</td>\n",
       "      <td>2.00</td>\n",
       "      <td>93</td>\n",
       "      <td>90</td>\n",
       "      <td>7.00</td>\n",
       "      <td>53.02</td>\n",
       "      <td>39.17</td>\n",
       "    </tr>\n",
       "    <tr>\n",
       "      <td>1</td>\n",
       "      <td>Atlantic City</td>\n",
       "      <td>12.63</td>\n",
       "      <td>22</td>\n",
       "      <td>75</td>\n",
       "      <td>4.10</td>\n",
       "      <td>39.36</td>\n",
       "      <td>-74.42</td>\n",
       "    </tr>\n",
       "    <tr>\n",
       "      <td>2</td>\n",
       "      <td>Iqaluit</td>\n",
       "      <td>-25.77</td>\n",
       "      <td>62</td>\n",
       "      <td>20</td>\n",
       "      <td>6.70</td>\n",
       "      <td>63.75</td>\n",
       "      <td>-68.51</td>\n",
       "    </tr>\n",
       "    <tr>\n",
       "      <td>3</td>\n",
       "      <td>Punta Arenas</td>\n",
       "      <td>15.00</td>\n",
       "      <td>58</td>\n",
       "      <td>75</td>\n",
       "      <td>9.30</td>\n",
       "      <td>-53.15</td>\n",
       "      <td>-70.92</td>\n",
       "    </tr>\n",
       "    <tr>\n",
       "      <td>4</td>\n",
       "      <td>Dubbo</td>\n",
       "      <td>12.00</td>\n",
       "      <td>81</td>\n",
       "      <td>0</td>\n",
       "      <td>5.10</td>\n",
       "      <td>-32.25</td>\n",
       "      <td>148.62</td>\n",
       "    </tr>\n",
       "    <tr>\n",
       "      <td>...</td>\n",
       "      <td>...</td>\n",
       "      <td>...</td>\n",
       "      <td>...</td>\n",
       "      <td>...</td>\n",
       "      <td>...</td>\n",
       "      <td>...</td>\n",
       "      <td>...</td>\n",
       "    </tr>\n",
       "    <tr>\n",
       "      <td>537</td>\n",
       "      <td>Scottsbluff</td>\n",
       "      <td>0.11</td>\n",
       "      <td>80</td>\n",
       "      <td>90</td>\n",
       "      <td>7.70</td>\n",
       "      <td>41.87</td>\n",
       "      <td>-103.67</td>\n",
       "    </tr>\n",
       "    <tr>\n",
       "      <td>538</td>\n",
       "      <td>Yining</td>\n",
       "      <td>7.67</td>\n",
       "      <td>67</td>\n",
       "      <td>0</td>\n",
       "      <td>0.40</td>\n",
       "      <td>29.04</td>\n",
       "      <td>114.56</td>\n",
       "    </tr>\n",
       "    <tr>\n",
       "      <td>539</td>\n",
       "      <td>Fes</td>\n",
       "      <td>19.00</td>\n",
       "      <td>63</td>\n",
       "      <td>40</td>\n",
       "      <td>3.60</td>\n",
       "      <td>34.04</td>\n",
       "      <td>-5.00</td>\n",
       "    </tr>\n",
       "    <tr>\n",
       "      <td>540</td>\n",
       "      <td>Karaton</td>\n",
       "      <td>25.80</td>\n",
       "      <td>83</td>\n",
       "      <td>20</td>\n",
       "      <td>1.50</td>\n",
       "      <td>-6.34</td>\n",
       "      <td>106.10</td>\n",
       "    </tr>\n",
       "    <tr>\n",
       "      <td>541</td>\n",
       "      <td>Yakeshi</td>\n",
       "      <td>-22.63</td>\n",
       "      <td>91</td>\n",
       "      <td>31</td>\n",
       "      <td>2.96</td>\n",
       "      <td>49.28</td>\n",
       "      <td>120.73</td>\n",
       "    </tr>\n",
       "  </tbody>\n",
       "</table>\n",
       "<p>542 rows × 7 columns</p>\n",
       "</div>"
      ],
      "text/plain": [
       "              name  temperature  humidity  cloudiness  wind_speed  latitude  \\\n",
       "0        Lebedyan'         2.00        93          90        7.00     53.02   \n",
       "1    Atlantic City        12.63        22          75        4.10     39.36   \n",
       "2          Iqaluit       -25.77        62          20        6.70     63.75   \n",
       "3     Punta Arenas        15.00        58          75        9.30    -53.15   \n",
       "4            Dubbo        12.00        81           0        5.10    -32.25   \n",
       "..             ...          ...       ...         ...         ...       ...   \n",
       "537    Scottsbluff         0.11        80          90        7.70     41.87   \n",
       "538         Yining         7.67        67           0        0.40     29.04   \n",
       "539            Fes        19.00        63          40        3.60     34.04   \n",
       "540        Karaton        25.80        83          20        1.50     -6.34   \n",
       "541        Yakeshi       -22.63        91          31        2.96     49.28   \n",
       "\n",
       "     longitude  \n",
       "0        39.17  \n",
       "1       -74.42  \n",
       "2       -68.51  \n",
       "3       -70.92  \n",
       "4       148.62  \n",
       "..         ...  \n",
       "537    -103.67  \n",
       "538     114.56  \n",
       "539      -5.00  \n",
       "540     106.10  \n",
       "541     120.73  \n",
       "\n",
       "[542 rows x 7 columns]"
      ]
     },
     "execution_count": 67,
     "metadata": {},
     "output_type": "execute_result"
    }
   ],
   "source": [
    "# Print the dataframe to ensure it looks correct\n",
    "cities_df"
   ]
  },
  {
   "cell_type": "markdown",
   "metadata": {},
   "source": [
    "### Plotting the Data\n",
    "* Use proper labeling of the plots using plot titles (including date of analysis) and axes labels.\n",
    "* Save the plotted figures as .pngs."
   ]
  },
  {
   "cell_type": "markdown",
   "metadata": {},
   "source": [
    "#### Latitude vs. Temperature Plot"
   ]
  },
  {
   "cell_type": "code",
   "execution_count": 68,
   "metadata": {
    "scrolled": true
   },
   "outputs": [
    {
     "data": {
      "image/png": "[encoded data removed]",
      "text/plain": [
       "<Figure size 432x288 with 1 Axes>"
      ]
     },
     "metadata": {
      "needs_background": "light"
     },
     "output_type": "display_data"
    },
    {
     "data": {
      "text/plain": [
       "<Figure size 432x288 with 0 Axes>"
      ]
     },
     "metadata": {},
     "output_type": "display_data"
    }
   ],
   "source": [
    "# Proceed with plotting the requested data sets\n",
    "\n",
    "latitude = cities_df['latitude']\n",
    "temperature = cities_df['temperature']\n",
    "plt.scatter(latitude, temperature)\n",
    "plt.xlabel('Latitude')\n",
    "plt.ylabel('Temperature')\n",
    "plt.title(\"City Latitude vs. Temperature (Celsius)\")\n",
    "plt.grid()\n",
    "plt.show()\n",
    "plt.savefig(\"Images/lat_v_temp.png\")\n"
   ]
  },
  {
   "cell_type": "markdown",
   "metadata": {},
   "source": [
    "#### Latitude vs. Humidity Plot"
   ]
  },
  {
   "cell_type": "code",
   "execution_count": 69,
   "metadata": {},
   "outputs": [
    {
     "data": {
      "image/png": "[encoded data removed]",
      "text/plain": [
       "<Figure size 432x288 with 1 Axes>"
      ]
     },
     "metadata": {
      "needs_background": "light"
     },
     "output_type": "display_data"
    },
    {
     "data": {
      "text/plain": [
       "<Figure size 432x288 with 0 Axes>"
      ]
     },
     "metadata": {},
     "output_type": "display_data"
    }
   ],
   "source": [
    "latitude = cities_df['latitude']\n",
    "humidity = cities_df['humidity']\n",
    "plt.scatter(latitude, humidity)\n",
    "plt.xlabel('Latitude')\n",
    "plt.ylabel('Humidity')\n",
    "plt.title('City Latitude vs. Humidity (%)')\n",
    "plt.grid()\n",
    "plt.show()\n",
    "plt.savefig(\"Images/lat_v_hum.png\")"
   ]
  },
  {
   "cell_type": "markdown",
   "metadata": {},
   "source": [
    "#### Latitude vs. Cloudiness Plot"
   ]
  },
  {
   "cell_type": "code",
   "execution_count": 70,
   "metadata": {},
   "outputs": [
    {
     "data": {
      "image/png": "[encoded data removed]",
      "text/plain": [
       "<Figure size 432x288 with 1 Axes>"
      ]
     },
     "metadata": {
      "needs_background": "light"
     },
     "output_type": "display_data"
    },
    {
     "data": {
      "text/plain": [
       "<Figure size 432x288 with 0 Axes>"
      ]
     },
     "metadata": {},
     "output_type": "display_data"
    }
   ],
   "source": [
    "latitude = cities_df['latitude']\n",
    "cloudiness = cities_df['cloudiness']\n",
    "plt.scatter(latitude, cloudiness)\n",
    "plt.xlabel('Latitude')\n",
    "plt.ylabel('Cloudiness')\n",
    "plt.title('City Latitude vs. Cloudiness')\n",
    "plt.grid()\n",
    "plt.show()\n",
    "plt.savefig(\"Images/lat_v_cloudy.png\")"
   ]
  },
  {
   "cell_type": "markdown",
   "metadata": {},
   "source": [
    "#### Latitude vs. Wind Speed Plot"
   ]
  },
  {
   "cell_type": "code",
   "execution_count": 71,
   "metadata": {},
   "outputs": [
    {
     "data": {
      "image/png": "[encoded data removed]",
      "text/plain": [
       "<Figure size 432x288 with 1 Axes>"
      ]
     },
     "metadata": {
      "needs_background": "light"
     },
     "output_type": "display_data"
    },
    {
     "data": {
      "text/plain": [
       "<Figure size 432x288 with 0 Axes>"
      ]
     },
     "metadata": {},
     "output_type": "display_data"
    }
   ],
   "source": [
    "latitude = cities_df['latitude']\n",
    "wind_speed = cities_df['wind_speed']\n",
    "plt.scatter(latitude, wind_speed)\n",
    "plt.xlabel('Latitude')\n",
    "plt.ylabel('Wind Speed')\n",
    "plt.grid()\n",
    "plt.show()\n",
    "plt.savefig(\"Images/lat_v_wind_speed.png\")"
   ]
  },
  {
   "cell_type": "markdown",
   "metadata": {},
   "source": [
    "## Linear Regression"
   ]
  },
  {
   "cell_type": "code",
   "execution_count": 72,
   "metadata": {},
   "outputs": [],
   "source": [
    "# Create a function to create Linear Regression plots\n",
    "def plot_linear_regression(x_values, y_values, title, text_coordinates):\n",
    "    # Run regresson on southern hemisphere\n",
    "    (slope, intercept, rvalue, pvalue, stderr) = linregress(x_values, y_values)\n",
    "    regress_values = x_values * slope + intercept\n",
    "    line_eq = \"y = \" + str(round(slope,2)) + \"x + \" + str(round(intercept,2))\n",
    "    # Plot\n",
    "    plt.scatter(x_values,y_values)\n",
    "    plt.plot(x_values,regress_values,\"r-\")\n",
    "    plt.annotate(line_eq,(0,0),text_coordinates,fontsize=15,color=\"red\")\n",
    "    plt.xlabel('Latitude')\n",
    "    plt.ylabel(title)\n",
    "    print(f\"The r-squared is: {rvalue}\")\n",
    "    plt.show()\n",
    "    plt.savefig(\"Images/\")"
   ]
  },
  {
   "cell_type": "code",
   "execution_count": 73,
   "metadata": {},
   "outputs": [],
   "source": [
    "# Create Northern and Southern Hemisphere DataFrames\n",
    "northern_df = cities_df.loc[cities_df['latitude']>=0]\n",
    "southern_df = cities_df.loc[cities_df['latitude']<0]"
   ]
  },
  {
   "cell_type": "code",
   "execution_count": 74,
   "metadata": {},
   "outputs": [
    {
     "data": {
      "text/html": [
       "<div>\n",
       "<style scoped>\n",
       "    .dataframe tbody tr th:only-of-type {\n",
       "        vertical-align: middle;\n",
       "    }\n",
       "\n",
       "    .dataframe tbody tr th {\n",
       "        vertical-align: top;\n",
       "    }\n",
       "\n",
       "    .dataframe thead th {\n",
       "        text-align: right;\n",
       "    }\n",
       "</style>\n",
       "<table border=\"1\" class=\"dataframe\">\n",
       "  <thead>\n",
       "    <tr style=\"text-align: right;\">\n",
       "      <th></th>\n",
       "      <th>name</th>\n",
       "      <th>temperature</th>\n",
       "      <th>humidity</th>\n",
       "      <th>cloudiness</th>\n",
       "      <th>wind_speed</th>\n",
       "      <th>latitude</th>\n",
       "      <th>longitude</th>\n",
       "    </tr>\n",
       "  </thead>\n",
       "  <tbody>\n",
       "    <tr>\n",
       "      <td>0</td>\n",
       "      <td>Lebedyan'</td>\n",
       "      <td>2.00</td>\n",
       "      <td>93</td>\n",
       "      <td>90</td>\n",
       "      <td>7.00</td>\n",
       "      <td>53.02</td>\n",
       "      <td>39.17</td>\n",
       "    </tr>\n",
       "    <tr>\n",
       "      <td>1</td>\n",
       "      <td>Atlantic City</td>\n",
       "      <td>12.63</td>\n",
       "      <td>22</td>\n",
       "      <td>75</td>\n",
       "      <td>4.10</td>\n",
       "      <td>39.36</td>\n",
       "      <td>-74.42</td>\n",
       "    </tr>\n",
       "    <tr>\n",
       "      <td>2</td>\n",
       "      <td>Iqaluit</td>\n",
       "      <td>-25.77</td>\n",
       "      <td>62</td>\n",
       "      <td>20</td>\n",
       "      <td>6.70</td>\n",
       "      <td>63.75</td>\n",
       "      <td>-68.51</td>\n",
       "    </tr>\n",
       "    <tr>\n",
       "      <td>7</td>\n",
       "      <td>Oktyabr'skoye</td>\n",
       "      <td>9.17</td>\n",
       "      <td>84</td>\n",
       "      <td>100</td>\n",
       "      <td>1.15</td>\n",
       "      <td>43.06</td>\n",
       "      <td>44.74</td>\n",
       "    </tr>\n",
       "    <tr>\n",
       "      <td>9</td>\n",
       "      <td>Tommot</td>\n",
       "      <td>-24.73</td>\n",
       "      <td>91</td>\n",
       "      <td>100</td>\n",
       "      <td>1.38</td>\n",
       "      <td>58.96</td>\n",
       "      <td>126.29</td>\n",
       "    </tr>\n",
       "    <tr>\n",
       "      <td>...</td>\n",
       "      <td>...</td>\n",
       "      <td>...</td>\n",
       "      <td>...</td>\n",
       "      <td>...</td>\n",
       "      <td>...</td>\n",
       "      <td>...</td>\n",
       "      <td>...</td>\n",
       "    </tr>\n",
       "    <tr>\n",
       "      <td>536</td>\n",
       "      <td>Berlevåg</td>\n",
       "      <td>-5.53</td>\n",
       "      <td>74</td>\n",
       "      <td>93</td>\n",
       "      <td>12.82</td>\n",
       "      <td>70.86</td>\n",
       "      <td>29.09</td>\n",
       "    </tr>\n",
       "    <tr>\n",
       "      <td>537</td>\n",
       "      <td>Scottsbluff</td>\n",
       "      <td>0.11</td>\n",
       "      <td>80</td>\n",
       "      <td>90</td>\n",
       "      <td>7.70</td>\n",
       "      <td>41.87</td>\n",
       "      <td>-103.67</td>\n",
       "    </tr>\n",
       "    <tr>\n",
       "      <td>538</td>\n",
       "      <td>Yining</td>\n",
       "      <td>7.67</td>\n",
       "      <td>67</td>\n",
       "      <td>0</td>\n",
       "      <td>0.40</td>\n",
       "      <td>29.04</td>\n",
       "      <td>114.56</td>\n",
       "    </tr>\n",
       "    <tr>\n",
       "      <td>539</td>\n",
       "      <td>Fes</td>\n",
       "      <td>19.00</td>\n",
       "      <td>63</td>\n",
       "      <td>40</td>\n",
       "      <td>3.60</td>\n",
       "      <td>34.04</td>\n",
       "      <td>-5.00</td>\n",
       "    </tr>\n",
       "    <tr>\n",
       "      <td>541</td>\n",
       "      <td>Yakeshi</td>\n",
       "      <td>-22.63</td>\n",
       "      <td>91</td>\n",
       "      <td>31</td>\n",
       "      <td>2.96</td>\n",
       "      <td>49.28</td>\n",
       "      <td>120.73</td>\n",
       "    </tr>\n",
       "  </tbody>\n",
       "</table>\n",
       "<p>379 rows × 7 columns</p>\n",
       "</div>"
      ],
      "text/plain": [
       "              name  temperature  humidity  cloudiness  wind_speed  latitude  \\\n",
       "0        Lebedyan'         2.00        93          90        7.00     53.02   \n",
       "1    Atlantic City        12.63        22          75        4.10     39.36   \n",
       "2          Iqaluit       -25.77        62          20        6.70     63.75   \n",
       "7    Oktyabr'skoye         9.17        84         100        1.15     43.06   \n",
       "9           Tommot       -24.73        91         100        1.38     58.96   \n",
       "..             ...          ...       ...         ...         ...       ...   \n",
       "536       Berlevåg        -5.53        74          93       12.82     70.86   \n",
       "537    Scottsbluff         0.11        80          90        7.70     41.87   \n",
       "538         Yining         7.67        67           0        0.40     29.04   \n",
       "539            Fes        19.00        63          40        3.60     34.04   \n",
       "541        Yakeshi       -22.63        91          31        2.96     49.28   \n",
       "\n",
       "     longitude  \n",
       "0        39.17  \n",
       "1       -74.42  \n",
       "2       -68.51  \n",
       "7        44.74  \n",
       "9       126.29  \n",
       "..         ...  \n",
       "536      29.09  \n",
       "537    -103.67  \n",
       "538     114.56  \n",
       "539      -5.00  \n",
       "541     120.73  \n",
       "\n",
       "[379 rows x 7 columns]"
      ]
     },
     "execution_count": 74,
     "metadata": {},
     "output_type": "execute_result"
    }
   ],
   "source": [
    "# Print the dataframe as a quick check for any negative latitude values\n",
    "northern_df"
   ]
  },
  {
   "cell_type": "code",
   "execution_count": 75,
   "metadata": {},
   "outputs": [
    {
     "data": {
      "text/html": [
       "<div>\n",
       "<style scoped>\n",
       "    .dataframe tbody tr th:only-of-type {\n",
       "        vertical-align: middle;\n",
       "    }\n",
       "\n",
       "    .dataframe tbody tr th {\n",
       "        vertical-align: top;\n",
       "    }\n",
       "\n",
       "    .dataframe thead th {\n",
       "        text-align: right;\n",
       "    }\n",
       "</style>\n",
       "<table border=\"1\" class=\"dataframe\">\n",
       "  <thead>\n",
       "    <tr style=\"text-align: right;\">\n",
       "      <th></th>\n",
       "      <th>name</th>\n",
       "      <th>temperature</th>\n",
       "      <th>humidity</th>\n",
       "      <th>cloudiness</th>\n",
       "      <th>wind_speed</th>\n",
       "      <th>latitude</th>\n",
       "      <th>longitude</th>\n",
       "    </tr>\n",
       "  </thead>\n",
       "  <tbody>\n",
       "    <tr>\n",
       "      <td>3</td>\n",
       "      <td>Punta Arenas</td>\n",
       "      <td>15.00</td>\n",
       "      <td>58</td>\n",
       "      <td>75</td>\n",
       "      <td>9.30</td>\n",
       "      <td>-53.15</td>\n",
       "      <td>-70.92</td>\n",
       "    </tr>\n",
       "    <tr>\n",
       "      <td>4</td>\n",
       "      <td>Dubbo</td>\n",
       "      <td>12.00</td>\n",
       "      <td>81</td>\n",
       "      <td>0</td>\n",
       "      <td>5.10</td>\n",
       "      <td>-32.25</td>\n",
       "      <td>148.62</td>\n",
       "    </tr>\n",
       "    <tr>\n",
       "      <td>5</td>\n",
       "      <td>Lebu</td>\n",
       "      <td>17.07</td>\n",
       "      <td>55</td>\n",
       "      <td>0</td>\n",
       "      <td>6.00</td>\n",
       "      <td>-37.62</td>\n",
       "      <td>-73.65</td>\n",
       "    </tr>\n",
       "    <tr>\n",
       "      <td>6</td>\n",
       "      <td>Airai</td>\n",
       "      <td>17.77</td>\n",
       "      <td>83</td>\n",
       "      <td>18</td>\n",
       "      <td>1.30</td>\n",
       "      <td>-8.93</td>\n",
       "      <td>125.41</td>\n",
       "    </tr>\n",
       "    <tr>\n",
       "      <td>8</td>\n",
       "      <td>Busselton</td>\n",
       "      <td>18.14</td>\n",
       "      <td>98</td>\n",
       "      <td>98</td>\n",
       "      <td>4.52</td>\n",
       "      <td>-33.65</td>\n",
       "      <td>115.33</td>\n",
       "    </tr>\n",
       "    <tr>\n",
       "      <td>...</td>\n",
       "      <td>...</td>\n",
       "      <td>...</td>\n",
       "      <td>...</td>\n",
       "      <td>...</td>\n",
       "      <td>...</td>\n",
       "      <td>...</td>\n",
       "      <td>...</td>\n",
       "    </tr>\n",
       "    <tr>\n",
       "      <td>514</td>\n",
       "      <td>Salta</td>\n",
       "      <td>28.27</td>\n",
       "      <td>54</td>\n",
       "      <td>40</td>\n",
       "      <td>2.60</td>\n",
       "      <td>-24.79</td>\n",
       "      <td>-65.41</td>\n",
       "    </tr>\n",
       "    <tr>\n",
       "      <td>518</td>\n",
       "      <td>Peruíbe</td>\n",
       "      <td>25.57</td>\n",
       "      <td>86</td>\n",
       "      <td>26</td>\n",
       "      <td>6.91</td>\n",
       "      <td>-24.32</td>\n",
       "      <td>-47.00</td>\n",
       "    </tr>\n",
       "    <tr>\n",
       "      <td>529</td>\n",
       "      <td>San Matías</td>\n",
       "      <td>33.57</td>\n",
       "      <td>52</td>\n",
       "      <td>3</td>\n",
       "      <td>2.93</td>\n",
       "      <td>-16.37</td>\n",
       "      <td>-58.40</td>\n",
       "    </tr>\n",
       "    <tr>\n",
       "      <td>532</td>\n",
       "      <td>Lumeje</td>\n",
       "      <td>20.07</td>\n",
       "      <td>92</td>\n",
       "      <td>96</td>\n",
       "      <td>1.63</td>\n",
       "      <td>-11.55</td>\n",
       "      <td>20.78</td>\n",
       "    </tr>\n",
       "    <tr>\n",
       "      <td>540</td>\n",
       "      <td>Karaton</td>\n",
       "      <td>25.80</td>\n",
       "      <td>83</td>\n",
       "      <td>20</td>\n",
       "      <td>1.50</td>\n",
       "      <td>-6.34</td>\n",
       "      <td>106.10</td>\n",
       "    </tr>\n",
       "  </tbody>\n",
       "</table>\n",
       "<p>163 rows × 7 columns</p>\n",
       "</div>"
      ],
      "text/plain": [
       "             name  temperature  humidity  cloudiness  wind_speed  latitude  \\\n",
       "3    Punta Arenas        15.00        58          75        9.30    -53.15   \n",
       "4           Dubbo        12.00        81           0        5.10    -32.25   \n",
       "5            Lebu        17.07        55           0        6.00    -37.62   \n",
       "6           Airai        17.77        83          18        1.30     -8.93   \n",
       "8       Busselton        18.14        98          98        4.52    -33.65   \n",
       "..            ...          ...       ...         ...         ...       ...   \n",
       "514         Salta        28.27        54          40        2.60    -24.79   \n",
       "518       Peruíbe        25.57        86          26        6.91    -24.32   \n",
       "529    San Matías        33.57        52           3        2.93    -16.37   \n",
       "532        Lumeje        20.07        92          96        1.63    -11.55   \n",
       "540       Karaton        25.80        83          20        1.50     -6.34   \n",
       "\n",
       "     longitude  \n",
       "3       -70.92  \n",
       "4       148.62  \n",
       "5       -73.65  \n",
       "6       125.41  \n",
       "8       115.33  \n",
       "..         ...  \n",
       "514     -65.41  \n",
       "518     -47.00  \n",
       "529     -58.40  \n",
       "532      20.78  \n",
       "540     106.10  \n",
       "\n",
       "[163 rows x 7 columns]"
      ]
     },
     "execution_count": 75,
     "metadata": {},
     "output_type": "execute_result"
    }
   ],
   "source": [
    "# Print the dataframe to check for any positive latitude values \n",
    "southern_df"
   ]
  },
  {
   "cell_type": "markdown",
   "metadata": {},
   "source": [
    "####  Northern Hemisphere - Max Temp vs. Latitude Linear Regression"
   ]
  },
  {
   "cell_type": "code",
   "execution_count": 76,
   "metadata": {},
   "outputs": [
    {
     "name": "stdout",
     "output_type": "stream",
     "text": [
      "The r-squared is: -0.8928655190138421\n"
     ]
    },
    {
     "data": {
      "image/png": "[encoded data removed]",
      "text/plain": [
       "<Figure size 432x288 with 1 Axes>"
      ]
     },
     "metadata": {
      "needs_background": "light"
     },
     "output_type": "display_data"
    },
    {
     "data": {
      "text/plain": [
       "<Figure size 432x288 with 0 Axes>"
      ]
     },
     "metadata": {},
     "output_type": "display_data"
    }
   ],
   "source": [
    "# Proceed with plotting the data by norther and southern hemispheres\n",
    "\n",
    "n_max_temp = northern_df['temperature']\n",
    "n_latitude = northern_df['latitude']\n",
    "\n",
    "plot_linear_regression(n_latitude, n_max_temp, 'Max Temperature (Celsius)', (0,40))\n",
    "plt.savefig(\"Images/ntemp_v_lat.png\")"
   ]
  },
  {
   "cell_type": "markdown",
   "metadata": {},
   "source": [
    "####  Southern Hemisphere - Max Temp vs. Latitude Linear Regression"
   ]
  },
  {
   "cell_type": "code",
   "execution_count": 77,
   "metadata": {},
   "outputs": [
    {
     "name": "stdout",
     "output_type": "stream",
     "text": [
      "The r-squared is: 0.5760604270617573\n"
     ]
    },
    {
     "data": {
      "image/png": "[encoded data removed]",
      "text/plain": [
       "<Figure size 432x288 with 1 Axes>"
      ]
     },
     "metadata": {
      "needs_background": "light"
     },
     "output_type": "display_data"
    },
    {
     "data": {
      "text/plain": [
       "<Figure size 432x288 with 0 Axes>"
      ]
     },
     "metadata": {},
     "output_type": "display_data"
    }
   ],
   "source": [
    "s_max_temp = southern_df['temperature']\n",
    "s_latitude = southern_df['latitude']\n",
    "\n",
    "plot_linear_regression(s_latitude, s_max_temp, 'Max Temperature (Celsius)', (0,40))\n",
    "plt.savefig(\"Images/stemp_v_lat.png\")"
   ]
  },
  {
   "cell_type": "markdown",
   "metadata": {},
   "source": [
    "####  Northern Hemisphere - Humidity (%) vs. Latitude Linear Regression"
   ]
  },
  {
   "cell_type": "code",
   "execution_count": 78,
   "metadata": {},
   "outputs": [
    {
     "name": "stdout",
     "output_type": "stream",
     "text": [
      "The r-squared is: 0.2803228565464979\n"
     ]
    },
    {
     "data": {
      "image/png": "[encoded data removed]",
      "text/plain": [
       "<Figure size 432x288 with 1 Axes>"
      ]
     },
     "metadata": {
      "needs_background": "light"
     },
     "output_type": "display_data"
    },
    {
     "data": {
      "text/plain": [
       "<Figure size 432x288 with 0 Axes>"
      ]
     },
     "metadata": {},
     "output_type": "display_data"
    }
   ],
   "source": [
    "n_humidity = northern_df['humidity']\n",
    "n_latitude = northern_df['latitude']\n",
    "\n",
    "plot_linear_regression(n_latitude, n_humidity, 'Humidity (%)', (0,40))\n",
    "plt.savefig(\"Images/nhum_v_lat.png\")"
   ]
  },
  {
   "cell_type": "markdown",
   "metadata": {},
   "source": [
    "####  Southern Hemisphere - Humidity (%) vs. Latitude Linear Regression"
   ]
  },
  {
   "cell_type": "code",
   "execution_count": 79,
   "metadata": {},
   "outputs": [
    {
     "name": "stdout",
     "output_type": "stream",
     "text": [
      "The r-squared is: 0.23350243060060039\n"
     ]
    },
    {
     "data": {
      "image/png": "[encoded data removed]",
      "text/plain": [
       "<Figure size 432x288 with 1 Axes>"
      ]
     },
     "metadata": {
      "needs_background": "light"
     },
     "output_type": "display_data"
    },
    {
     "data": {
      "text/plain": [
       "<Figure size 432x288 with 0 Axes>"
      ]
     },
     "metadata": {},
     "output_type": "display_data"
    }
   ],
   "source": [
    "s_humidity = southern_df['humidity']\n",
    "s_latitude = southern_df['latitude']\n",
    "\n",
    "plot_linear_regression(s_latitude, s_humidity, 'Humidity (%)', (0,40))\n",
    "plt.savefig(\"Images/shum_v_lat.png\")"
   ]
  },
  {
   "cell_type": "markdown",
   "metadata": {},
   "source": [
    "####  Northern Hemisphere - Cloudiness (%) vs. Latitude Linear Regression"
   ]
  },
  {
   "cell_type": "code",
   "execution_count": 80,
   "metadata": {},
   "outputs": [
    {
     "name": "stdout",
     "output_type": "stream",
     "text": [
      "The r-squared is: 0.13208061610594163\n"
     ]
    },
    {
     "data": {
      "image/png": "[encoded data removed]",
      "text/plain": [
       "<Figure size 432x288 with 1 Axes>"
      ]
     },
     "metadata": {
      "needs_background": "light"
     },
     "output_type": "display_data"
    },
    {
     "data": {
      "text/plain": [
       "<Figure size 432x288 with 0 Axes>"
      ]
     },
     "metadata": {},
     "output_type": "display_data"
    }
   ],
   "source": [
    "n_cloudiness = northern_df['cloudiness']\n",
    "n_latitude = northern_df['latitude']\n",
    "\n",
    "plot_linear_regression(n_latitude, n_cloudiness, 'Cloudiness', (0,40))\n",
    "plt.savefig(\"Images/nhum_v_lat.png\")"
   ]
  },
  {
   "cell_type": "markdown",
   "metadata": {},
   "source": [
    "####  Southern Hemisphere - Cloudiness (%) vs. Latitude Linear Regression"
   ]
  },
  {
   "cell_type": "code",
   "execution_count": 81,
   "metadata": {},
   "outputs": [
    {
     "name": "stdout",
     "output_type": "stream",
     "text": [
      "The r-squared is: 0.24957085537379048\n"
     ]
    },
    {
     "data": {
      "image/png": "[encoded data removed]",
      "text/plain": [
       "<Figure size 432x288 with 1 Axes>"
      ]
     },
     "metadata": {
      "needs_background": "light"
     },
     "output_type": "display_data"
    },
    {
     "data": {
      "text/plain": [
       "<Figure size 432x288 with 0 Axes>"
      ]
     },
     "metadata": {},
     "output_type": "display_data"
    }
   ],
   "source": [
    "s_cloudiness = southern_df['cloudiness']\n",
    "s_latitude = southern_df['latitude']\n",
    "\n",
    "plot_linear_regression(s_latitude, s_cloudiness, 'Cloudiness', (0,40))\n",
    "plt.savefig(\"Images/nhum_v_lat.png\")"
   ]
  },
  {
   "cell_type": "markdown",
   "metadata": {},
   "source": [
    "####  Northern Hemisphere - Wind Speed (mph) vs. Latitude Linear Regression"
   ]
  },
  {
   "cell_type": "code",
   "execution_count": 82,
   "metadata": {},
   "outputs": [
    {
     "name": "stdout",
     "output_type": "stream",
     "text": [
      "The r-squared is: 0.2121307872411594\n"
     ]
    },
    {
     "data": {
      "image/png": "[encoded data removed]",
      "text/plain": [
       "<Figure size 432x288 with 1 Axes>"
      ]
     },
     "metadata": {
      "needs_background": "light"
     },
     "output_type": "display_data"
    },
    {
     "data": {
      "text/plain": [
       "<Figure size 432x288 with 0 Axes>"
      ]
     },
     "metadata": {},
     "output_type": "display_data"
    }
   ],
   "source": [
    "n_wind_speed = northern_df['wind_speed']\n",
    "n_latitude = northern_df['latitude']\n",
    "\n",
    "plot_linear_regression(n_latitude, n_wind_speed, 'Wind Speed', (0,16))\n",
    "plt.savefig(\"Images/nhum_v_lat.png\")"
   ]
  },
  {
   "cell_type": "markdown",
   "metadata": {},
   "source": [
    "####  Southern Hemisphere - Wind Speed (mph) vs. Latitude Linear Regression"
   ]
  },
  {
   "cell_type": "code",
   "execution_count": 83,
   "metadata": {},
   "outputs": [
    {
     "name": "stdout",
     "output_type": "stream",
     "text": [
      "The r-squared is: -0.1222354294306372\n"
     ]
    },
    {
     "data": {
      "image/png": "[encoded data removed]",
      "text/plain": [
       "<Figure size 432x288 with 1 Axes>"
      ]
     },
     "metadata": {
      "needs_background": "light"
     },
     "output_type": "display_data"
    },
    {
     "data": {
      "text/plain": [
       "<Figure size 432x288 with 0 Axes>"
      ]
     },
     "metadata": {},
     "output_type": "display_data"
    }
   ],
   "source": [
    "s_wind_speed = southern_df['wind_speed']\n",
    "s_latitude = southern_df['latitude']\n",
    "\n",
    "plot_linear_regression(s_latitude, s_wind_speed, 'Wind Speed', (0,10))\n",
    "plt.savefig(\"Images/nhum_v_lat.png\")"
   ]
  },
  {
   "cell_type": "code",
   "execution_count": null,
   "metadata": {},
   "outputs": [],
   "source": []
  }
 ],
 "metadata": {
  "anaconda-cloud": {},
  "kernel_info": {
   "name": "python3"
  },
  "kernelspec": {
   "display_name": "Python 3",
   "language": "python",
   "name": "python3"
  },
  "language_info": {
   "codemirror_mode": {
    "name": "ipython",
    "version": 3
   },
   "file_extension": ".py",
   "mimetype": "text/x-python",
   "name": "python",
   "nbconvert_exporter": "python",
   "pygments_lexer": "ipython3",
   "version": "3.7.4"
  },
  "latex_envs": {
   "LaTeX_envs_menu_present": true,
   "autoclose": false,
   "autocomplete": true,
   "bibliofile": "biblio.bib",
   "cite_by": "apalike",
   "current_citInitial": 1,
   "eqLabelWithNumbers": true,
   "eqNumInitial": 1,
   "hotkeys": {
    "equation": "Ctrl-E",
    "itemize": "Ctrl-I"
   },
   "labels_anchors": false,
   "latex_user_defs": false,
   "report_style_numbering": false,
   "user_envs_cfg": false
  },
  "nteract": {
   "version": "0.12.3"
  }
 },
 "nbformat": 4,
 "nbformat_minor": 2
}
